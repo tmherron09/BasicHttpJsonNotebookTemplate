{
 "cells": [
  {
   "cell_type": "code",
   "execution_count": 1,
   "id": "initial_id",
   "metadata": {},
   "outputs": [],
   "source": [
    "import ipywidgets as widgets\n",
    "from IPython.display import display, HTML, Javascript"
   ]
  },
  {
   "cell_type": "code",
   "execution_count": 2,
   "id": "7149db0c49a08be0",
   "metadata": {},
   "outputs": [
    {
     "data": {
      "text/html": [
       "\n",
       "<div style=\"color: blue; font-size: 20px;\">\n",
       "    This is a custom HTML widget!\n",
       "</div>\n"
      ],
      "text/plain": [
       "<IPython.core.display.HTML object>"
      ]
     },
     "metadata": {},
     "output_type": "display_data"
    }
   ],
   "source": [
    "custom_html = \"\"\"\n",
    "<div style=\"color: blue; font-size: 20px;\">\n",
    "    This is a custom HTML widget!\n",
    "</div>\n",
    "\"\"\"\n",
    "display(HTML(custom_html))"
   ]
  },
  {
   "cell_type": "code",
   "execution_count": 3,
   "id": "1c81013f28f5f68",
   "metadata": {},
   "outputs": [
    {
     "data": {
      "text/html": [
       "\n",
       "<style>\n",
       ".div-box {\n",
       "    background-color: blue; \n",
       "}\n",
       "</style>\n",
       "<div class=\"div-box\" style='display: flex; justify-content: center; align-items: center; height: 100px; width: 100px; color: white; font-size: 20px; border-radius: 5px;'>\n",
       "<div id=\"custom-widget\" style=\"color: blue; font-size: 20px; background-color: white; border-radius: 5px;\">\n",
       "    Click me!\n",
       "</div>\n",
       "</div>\n",
       "<script>\n",
       "    document.getElementById('custom-widget').onclick = function() {\n",
       "        this.style.color = this.style.color === 'blue' ? 'red' : 'blue';\n",
       "    }\n",
       "</script>\n"
      ],
      "text/plain": [
       "<IPython.core.display.HTML object>"
      ]
     },
     "metadata": {},
     "output_type": "display_data"
    }
   ],
   "source": [
    "custom_html_js = \"\"\"\n",
    "<style>\n",
    ".div-box {\n",
    "    background-color: blue; \n",
    "}\n",
    "</style>\n",
    "<div class=\"div-box\" style='display: flex; justify-content: center; align-items: center; height: 100px; width: 100px; color: white; font-size: 20px; border-radius: 5px;'>\n",
    "<div id=\"custom-widget\" style=\"color: blue; font-size: 20px; background-color: white; border-radius: 5px;\">\n",
    "    Click me!\n",
    "</div>\n",
    "</div>\n",
    "<script>\n",
    "    document.getElementById('custom-widget').onclick = function() {\n",
    "        this.style.color = this.style.color === 'blue' ? 'red' : 'blue';\n",
    "    }\n",
    "</script>\n",
    "\"\"\"\n",
    "display(HTML(custom_html_js))"
   ]
  },
  {
   "cell_type": "code",
   "execution_count": 4,
   "id": "a27d5bf468def7ae",
   "metadata": {},
   "outputs": [
    {
     "data": {
      "text/html": [
       "\n",
       "<div class=\"div-box\" style='display: flex; justify-content: center; align-items: center; height: 100px; width: 100px; color: white; font-size: 20px; border-radius: 5px;'>\n",
       "<div id=\"custom-widget\" style=\"color: blue; font-size: 20px; background-color: white; border-radius: 5px;\">\n",
       "    Click me!\n",
       "</div>\n",
       "</div>\n",
       "<script>\n",
       "    document.getElementById('custom-widget').onclick = function() {\n",
       "        this.style.color = this.style.color === 'blue' ? 'red' : 'blue';\n",
       "    }\n",
       "</script>\n"
      ],
      "text/plain": [
       "<IPython.core.display.HTML object>"
      ]
     },
     "metadata": {},
     "output_type": "display_data"
    }
   ],
   "source": [
    "custom_html_js2 = \"\"\"\n",
    "<div class=\"div-box\" style='display: flex; justify-content: center; align-items: center; height: 100px; width: 100px; color: white; font-size: 20px; border-radius: 5px;'>\n",
    "<div id=\"custom-widget\" style=\"color: blue; font-size: 20px; background-color: white; border-radius: 5px;\">\n",
    "    Click me!\n",
    "</div>\n",
    "</div>\n",
    "<script>\n",
    "    document.getElementById('custom-widget').onclick = function() {\n",
    "        this.style.color = this.style.color === 'blue' ? 'red' : 'blue';\n",
    "    }\n",
    "</script>\n",
    "\"\"\"\n",
    "display(HTML(custom_html_js2))"
   ]
  },
  {
   "cell_type": "code",
   "execution_count": 10,
   "id": "195a999c3693d991",
   "metadata": {
    "ExecuteTime": {
     "end_time": "2024-05-30T01:47:22.735666Z",
     "start_time": "2024-05-30T01:47:22.729551Z"
    }
   },
   "outputs": [
    {
     "data": {
      "application/vnd.jupyter.widget-view+json": {
       "model_id": "f32fab7f43334c9e881ab834436d1eda",
       "version_major": 2,
       "version_minor": 0
      },
      "text/plain": [
       "HTML(value='\\n    <script crossorigin src=\"https://unpkg.com/react@17/umd/react.development.js\"></script>\\n   …"
      ]
     },
     "metadata": {},
     "output_type": "display_data"
    }
   ],
   "source": [
    "react_container = widgets.HTML(value=\"\"\"\n",
    "    <script crossorigin src=\"https://unpkg.com/react@17/umd/react.development.js\"></script>\n",
    "    <script crossorigin src=\"https://unpkg.com/react-dom@17/umd/react-dom.development.js\">\n",
    "    </script>\n",
    "    <div id=\"react-root\"></div>\n",
    "    \"\"\")\n",
    "display(react_container)"
   ]
  },
  {
   "cell_type": "code",
   "execution_count": 11,
   "id": "1b013a6275dbd468",
   "metadata": {
    "ExecuteTime": {
     "end_time": "2024-05-30T01:47:18.537405Z",
     "start_time": "2024-05-30T01:47:18.530403Z"
    }
   },
   "outputs": [
    {
     "data": {
      "text/html": [
       "\n",
       "<script crossorigin src=\"https://unpkg.com/react@17/umd/react.development.js\"></script>\n",
       "<script crossorigin src=\"https://unpkg.com/react-dom@17/umd/react-dom.development.js\">\n",
       "</script>\n",
       "<div id=\"react-root\"></div>\n"
      ],
      "text/plain": [
       "<IPython.core.display.HTML object>"
      ]
     },
     "metadata": {},
     "output_type": "display_data"
    },
    {
     "data": {
      "application/javascript": [
       "\n",
       "     const e = React.createElement;\n",
       "   \n",
       "    class LikeButton extends React.Component {\n",
       "        constructor(props) {\n",
       "            super(props);\n",
       "            this.state = { liked: false };\n",
       "        }\n",
       "\n",
       "        render() {\n",
       "            if (this.state.liked) {\n",
       "                return 'You liked this.';\n",
       "            }\n",
       "\n",
       "            return e(\n",
       "                'button',\n",
       "                { onClick: () => this.setState({ liked: true }) },\n",
       "                'Like'\n",
       "            );\n",
       "        }\n",
       "    }\n",
       "\n",
       "    const domContainer = document.querySelector('#react-root');\n",
       "    ReactDOM.render(e(LikeButton), domContainer);\n"
      ],
      "text/plain": [
       "<IPython.core.display.Javascript object>"
      ]
     },
     "metadata": {},
     "output_type": "display_data"
    }
   ],
   "source": [
    "react_container = \"\"\"\n",
    "<script crossorigin src=\"https://unpkg.com/react@17/umd/react.development.js\"></script>\n",
    "<script crossorigin src=\"https://unpkg.com/react-dom@17/umd/react-dom.development.js\">\n",
    "</script>\n",
    "<div id=\"react-root\"></div>\n",
    "\"\"\"\n",
    "react_code = \"\"\"\n",
    "     const e = React.createElement;\n",
    "   \n",
    "    class LikeButton extends React.Component {\n",
    "        constructor(props) {\n",
    "            super(props);\n",
    "            this.state = { liked: false };\n",
    "        }\n",
    "\n",
    "        render() {\n",
    "            if (this.state.liked) {\n",
    "                return 'You liked this.';\n",
    "            }\n",
    "\n",
    "            return e(\n",
    "                'button',\n",
    "                { onClick: () => this.setState({ liked: true }) },\n",
    "                'Like'\n",
    "            );\n",
    "        }\n",
    "    }\n",
    "\n",
    "    const domContainer = document.querySelector('#react-root');\n",
    "    ReactDOM.render(e(LikeButton), domContainer);\n",
    "\"\"\"\n",
    "\n",
    "display(HTML(react_container), Javascript(react_code))"
   ]
  },
  {
   "cell_type": "code",
   "execution_count": null,
   "id": "fa0e78e77fa6e5ca",
   "metadata": {},
   "outputs": [],
   "source": []
  },
  {
   "cell_type": "code",
   "execution_count": null,
   "id": "930ec6b3-68da-4e7a-a318-8a4c3151cd84",
   "metadata": {},
   "outputs": [],
   "source": []
  }
 ],
 "metadata": {
  "kernelspec": {
   "display_name": "Python 3 (ipykernel)",
   "language": "python",
   "name": "python3"
  },
  "language_info": {
   "codemirror_mode": {
    "name": "ipython",
    "version": 3
   },
   "file_extension": ".py",
   "mimetype": "text/x-python",
   "name": "python",
   "nbconvert_exporter": "python",
   "pygments_lexer": "ipython3",
   "version": "3.12.2"
  }
 },
 "nbformat": 4,
 "nbformat_minor": 5
}
